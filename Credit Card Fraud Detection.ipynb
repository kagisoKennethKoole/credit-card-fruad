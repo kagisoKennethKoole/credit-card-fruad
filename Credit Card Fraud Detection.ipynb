{
 "cells": [
  {
   "cell_type": "code",
   "execution_count": 13,
   "id": "5c60020d-9b60-4068-9b13-3056c99208b0",
   "metadata": {},
   "outputs": [
    {
     "name": "stdout",
     "output_type": "stream",
     "text": [
      "Accuracy: 0.497\n",
      "Confusion Matrix:\n",
      "[[493 511]\n",
      " [495 501]]\n",
      "Classification Report:\n",
      "              precision    recall  f1-score   support\n",
      "\n",
      "           0       0.50      0.49      0.49      1004\n",
      "           1       0.50      0.50      0.50       996\n",
      "\n",
      "    accuracy                           0.50      2000\n",
      "   macro avg       0.50      0.50      0.50      2000\n",
      "weighted avg       0.50      0.50      0.50      2000\n",
      "\n"
     ]
    }
   ],
   "source": [
    "# Importing libraries\n",
    "import numpy as np\n",
    "from sklearn.model_selection import train_test_split\n",
    "from sklearn.ensemble import RandomForestClassifier\n",
    "from sklearn.metrics import accuracy_score, confusion_matrix, classification_report\n",
    "\n",
    "# creating artificial intelligence data to identify credit card theft\n",
    "np.random.seed(42)\n",
    "creditCardFraudFeatures = np.random.rand(10000, 10)  # Features\n",
    "fraudDetection = np.random.randint(2, size=10000)  # Target variable (binary labels: 0 or 1) 0 meaning not fraudulent then 1 meaning fraudulent\n",
    "\n",
    "# dividing the information into testing and training sets\n",
    "creditCardFraudFeatures_train, creditCardFraudFeatures_test, fraudDetection_train, fraudDetection_test = train_test_split(creditCardFraudFeatures, fraudDetection, test_size=0.2, random_state=42)\n",
    "\n",
    "# Setting up the Random Forest Classifier model from scratch\n",
    "model = RandomForestClassifier()\n",
    "\n",
    "# Educating the model\n",
    "model.fit(creditCardFraudFeatures_train, fraudDetection_train)\n",
    "\n",
    "# Making predictions on the test set\n",
    "predictions = model.predict(creditCardFraudFeatures_test)\n",
    "\n",
    "# Evaluating the model\n",
    "accuracy = accuracy_score(fraudDetection_test, predictions)\n",
    "print(\"Accuracy:\", accuracy)\n",
    "\n",
    "conf_matrix = confusion_matrix(fraudDetection_test, predictions)\n",
    "print(\"Confusion Matrix:\")\n",
    "print(conf_matrix)\n",
    "\n",
    "class_report = classification_report(fraudDetection_test, predictions)\n",
    "print(\"Classification Report:\")\n",
    "print(class_report)\n"
   ]
  },
  {
   "cell_type": "code",
   "execution_count": null,
   "id": "d98a9549-bba2-4220-b2d8-fef88c6d3dd4",
   "metadata": {},
   "outputs": [],
   "source": []
  },
  {
   "cell_type": "code",
   "execution_count": null,
   "id": "805457d7-f6c7-45af-868f-638a4a507680",
   "metadata": {},
   "outputs": [],
   "source": []
  },
  {
   "cell_type": "code",
   "execution_count": null,
   "id": "213622a3-96b2-4a18-a8dd-285ba77ff9c5",
   "metadata": {},
   "outputs": [],
   "source": []
  },
  {
   "cell_type": "code",
   "execution_count": null,
   "id": "a1701d11-338f-4597-bad4-12985c80c082",
   "metadata": {},
   "outputs": [],
   "source": []
  }
 ],
 "metadata": {
  "kernelspec": {
   "display_name": "Python 3 (ipykernel)",
   "language": "python",
   "name": "python3"
  },
  "language_info": {
   "codemirror_mode": {
    "name": "ipython",
    "version": 3
   },
   "file_extension": ".py",
   "mimetype": "text/x-python",
   "name": "python",
   "nbconvert_exporter": "python",
   "pygments_lexer": "ipython3",
   "version": "3.12.1"
  }
 },
 "nbformat": 4,
 "nbformat_minor": 5
}
